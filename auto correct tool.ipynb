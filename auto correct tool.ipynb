{
 "cells": [
  {
   "cell_type": "code",
   "execution_count": 1,
   "id": "b38ac257",
   "metadata": {},
   "outputs": [
    {
     "name": "stdout",
     "output_type": "stream",
     "text": [
      "Corrected word: grape\n"
     ]
    }
   ],
   "source": [
    "import textdistance\n",
    "\n",
    "def auto_correct(misspelled_word, word_list):\n",
    "    best_match = None\n",
    "    max_similarity = 0\n",
    "\n",
    "    for word in word_list:\n",
    "        similarity = textdistance.jaccard.normalized_similarity(misspelled_word, word)\n",
    "        if similarity > max_similarity:\n",
    "            max_similarity = similarity\n",
    "            best_match = word\n",
    "\n",
    "    return best_match\n",
    "\n",
    "# Example usage\n",
    "word_list = [\"apple\", \"banana\", \"orange\", \"grape\", \"pineapple\"]\n",
    "misspelled_word = \"graaps\"\n",
    "corrected_word = auto_correct(misspelled_word, word_list)\n",
    "print(\"Corrected word:\", corrected_word)\n"
   ]
  },
  {
   "cell_type": "code",
   "execution_count": 2,
   "id": "cc7dd6a2",
   "metadata": {},
   "outputs": [],
   "source": []
  },
  {
   "cell_type": "code",
   "execution_count": null,
   "id": "69fed944",
   "metadata": {},
   "outputs": [],
   "source": []
  }
 ],
 "metadata": {
  "kernelspec": {
   "display_name": "Python 3 (ipykernel)",
   "language": "python",
   "name": "python3"
  },
  "language_info": {
   "codemirror_mode": {
    "name": "ipython",
    "version": 3
   },
   "file_extension": ".py",
   "mimetype": "text/x-python",
   "name": "python",
   "nbconvert_exporter": "python",
   "pygments_lexer": "ipython3",
   "version": "3.11.4"
  }
 },
 "nbformat": 4,
 "nbformat_minor": 5
}

{
 "cells": [
  {
   "cell_type": "code",
   "execution_count": 1,
   "id": "6e8ae80b",
   "metadata": {},
   "outputs": [
    {
     "name": "stdout",
     "output_type": "stream",
     "text": [
      "Requirement already satisfied: nltk in c:\\users\\nikhi\\appdata\\local\\programs\\python\\python311\\lib\\site-packages (3.8.1)\n",
      "Requirement already satisfied: click in c:\\users\\nikhi\\appdata\\local\\programs\\python\\python311\\lib\\site-packages (from nltk) (8.1.4)\n",
      "Requirement already satisfied: joblib in c:\\users\\nikhi\\appdata\\local\\programs\\python\\python311\\lib\\site-packages (from nltk) (1.3.1)\n",
      "Requirement already satisfied: regex>=2021.8.3 in c:\\users\\nikhi\\appdata\\local\\programs\\python\\python311\\lib\\site-packages (from nltk) (2023.6.3)\n",
      "Requirement already satisfied: tqdm in c:\\users\\nikhi\\appdata\\local\\programs\\python\\python311\\lib\\site-packages (from nltk) (4.65.0)\n",
      "Requirement already satisfied: colorama in c:\\users\\nikhi\\appdata\\local\\programs\\python\\python311\\lib\\site-packages (from click->nltk) (0.4.6)\n"
     ]
    }
   ],
   "source": [
    "!pip install nltk\n"
   ]
  },
  {
   "cell_type": "code",
   "execution_count": 2,
   "id": "28f35354",
   "metadata": {},
   "outputs": [
    {
     "name": "stderr",
     "output_type": "stream",
     "text": [
      "[nltk_data] Downloading package punkt to\n",
      "[nltk_data]     C:\\Users\\nikhi\\AppData\\Roaming\\nltk_data...\n",
      "[nltk_data]   Package punkt is already up-to-date!\n",
      "[nltk_data] Downloading package stopwords to\n",
      "[nltk_data]     C:\\Users\\nikhi\\AppData\\Roaming\\nltk_data...\n",
      "[nltk_data]   Unzipping corpora\\stopwords.zip.\n"
     ]
    },
    {
     "data": {
      "text/plain": [
       "True"
      ]
     },
     "execution_count": 2,
     "metadata": {},
     "output_type": "execute_result"
    }
   ],
   "source": [
    "import nltk\n",
    "from nltk.corpus import stopwords\n",
    "from nltk.tokenize import word_tokenize\n",
    "\n",
    "nltk.download('punkt')\n",
    "nltk.download('stopwords')\n"
   ]
  },
  {
   "cell_type": "code",
   "execution_count": 3,
   "id": "f653c228",
   "metadata": {},
   "outputs": [],
   "source": [
    "job_description = \"We are looking for a candidate with experience in Python programming and machine learning.\"\n",
    "resumes = [\n",
    "    \"I have experience in Python programming and data analysis.\",\n",
    "    \"My skills include machine learning, Python programming, and deep learning.\",\n",
    "    \"I am proficient in Java and have some knowledge of Python.\"\n",
    "]\n"
   ]
  },
  {
   "cell_type": "code",
   "execution_count": 4,
   "id": "eed143fc",
   "metadata": {},
   "outputs": [],
   "source": [
    "stop_words = set(stopwords.words('english'))\n",
    "\n",
    "def preprocess_text(text):\n",
    "    tokens = word_tokenize(text.lower())\n",
    "    filtered_tokens = [token for token in tokens if token.isalnum() and token not in stop_words]\n",
    "    return filtered_tokens\n",
    "\n",
    "job_tokens = preprocess_text(job_description)\n",
    "resume_tokens = [preprocess_text(resume) for resume in resumes]\n"
   ]
  },
  {
   "cell_type": "code",
   "execution_count": 5,
   "id": "c3e174b3",
   "metadata": {},
   "outputs": [],
   "source": [
    "def calculate_similarity(tokens1, tokens2):\n",
    "    common_tokens = set(tokens1).intersection(tokens2)\n",
    "    similarity = len(common_tokens) / len(tokens1)\n",
    "    return similarity\n",
    "\n",
    "similarities = [calculate_similarity(job_tokens, resume) for resume in resume_tokens]\n"
   ]
  },
  {
   "cell_type": "code",
   "execution_count": 6,
   "id": "7bbaaaca",
   "metadata": {},
   "outputs": [],
   "source": [
    "best_candidate_index = similarities.index(max(similarities))\n",
    "best_candidate = resumes[best_candidate_index]\n"
   ]
  },
  {
   "cell_type": "code",
   "execution_count": 7,
   "id": "e0eff361",
   "metadata": {},
   "outputs": [
    {
     "name": "stdout",
     "output_type": "stream",
     "text": [
      "Best candidate: My skills include machine learning, Python programming, and deep learning.\n"
     ]
    }
   ],
   "source": [
    "print(\"Best candidate:\", best_candidate)\n"
   ]
  },
  {
   "cell_type": "code",
   "execution_count": null,
   "id": "54b036fd",
   "metadata": {},
   "outputs": [],
   "source": []
  }
 ],
 "metadata": {
  "kernelspec": {
   "display_name": "Python 3 (ipykernel)",
   "language": "python",
   "name": "python3"
  },
  "language_info": {
   "codemirror_mode": {
    "name": "ipython",
    "version": 3
   },
   "file_extension": ".py",
   "mimetype": "text/x-python",
   "name": "python",
   "nbconvert_exporter": "python",
   "pygments_lexer": "ipython3",
   "version": "3.11.4"
  }
 },
 "nbformat": 4,
 "nbformat_minor": 5
}
